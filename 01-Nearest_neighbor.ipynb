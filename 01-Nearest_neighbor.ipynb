{
 "cells": [
  {
   "cell_type": "markdown",
   "metadata": {},
   "source": [
    "# Nearest neighbour algorithm\n",
    "\n",
    "The nearest neighbour algorithm was one of the first algorithms used to solve the travelling salesman problem approximately. In that problem, the salesman starts at a random city and repeatedly visits the nearest city until all have been visited. The algorithm quickly yields a short tour, but usually not the optimal one."
   ]
  },
  {
   "cell_type": "markdown",
   "metadata": {},
   "source": [
    "## Algorithm\n",
    "\n",
    "These are the steps of the algorithm:\n",
    "\n",
    "1. Select an arbitrary vertex, set it as the current vertex u. Mark u as visited.\n",
    "1. Find out the shortest edge connecting the current vertex u and an unvisited vertex v. Set v as the current vertex u. Mark v as visited.\n",
    "1. If all the vertices in the domain are visited, then terminate. Else, go to step 3.\n",
    "\n",
    "If you don't understand the above algorithm, please don't worry. Next, we will learn based on an example."
   ]
  },
  {
   "cell_type": "markdown",
   "metadata": {},
   "source": [
    "## Step by step\n",
    "\n",
    "First, we import the python dependencies required for this section."
   ]
  },
  {
   "cell_type": "code",
   "execution_count": null,
   "metadata": {},
   "outputs": [],
   "source": [
    "import numpy as np"
   ]
  },
  {
   "cell_type": "markdown",
   "metadata": {},
   "source": [
    "Next, we define a travel graph, which include four cities a, b, c and d, and the distance between them is described by distance matrix.\n",
    "\n",
    "|  | a  | b  | c  | d  |\n",
    "|--------|----|----|----|----|\n",
    "| a      | 0  | 20 | 15 | 35 |\n",
    "| b      | 20 | 0  | 10 | 25 |\n",
    "| c      | 15 | 10 | 0  | 12 |\n",
    "| d      | 35 | 25 | 12 | 0  |\n",
    "\n",
    "Each element in the matrix represents the distance between the corresponding row and column city. For example, the distance between a and c is 15. Note that since the round-trip distance between any two points is the same, the distance matrix is a symmetric matrix.\n",
    "\n",
    "The code implementation is as follows:"
   ]
  },
  {
   "cell_type": "code",
   "execution_count": null,
   "metadata": {},
   "outputs": [],
   "source": [
    "label = ['a', 'b', 'c', 'd']\n",
    "G = [\n",
    "    [0,20,15,35],\n",
    "    [20,0,10,25],\n",
    "    [15,10,0,12],\n",
    "    [35,25,12,0]\n",
    "]"
   ]
  },
  {
   "cell_type": "markdown",
   "metadata": {},
   "source": [
    "#### Step 1. Choose any starting node\n",
    "\n",
    "Select an arbitrary vertex, set it as the current vertex u. Mark u as visited."
   ]
  },
  {
   "cell_type": "code",
   "execution_count": null,
   "metadata": {},
   "outputs": [],
   "source": [
    "city = np.random.randint(len(label))\n",
    "current, route = city, [city]\n",
    "print(f'Start node: {current}, route: {route}')"
   ]
  },
  {
   "cell_type": "markdown",
   "metadata": {},
   "source": [
    "#### Step 2. Consider the arcs which join the node just chosen to nodes as yet unchosen.  Pick the one with minimum weight and add it to the cycle\n",
    "\n",
    "Find out the shortest edge connecting the current vertex u and an unvisited vertex v. Set v as the current vertex u. Mark v as visited.\n",
    "\n",
    "\n",
    "We define a function to implement this function."
   ]
  },
  {
   "cell_type": "code",
   "execution_count": null,
   "metadata": {},
   "outputs": [],
   "source": [
    "def find_closest_neighbor(city, G, label, route):\n",
    "    w = 10000003\n",
    "    index = -1\n",
    "    for i in range(len(label)):\n",
    "        if i not in route and i != city and G[city][i] < w:\n",
    "            w = G[current][i]\n",
    "            index = i\n",
    "    return index\n",
    "\n",
    "closest_neighbor = find_closest_neighbor(current, G, label, route)\n",
    "print(f'Node: {current}, Closest neighbor: {closest_neighbor}')"
   ]
  },
  {
   "cell_type": "markdown",
   "metadata": {},
   "source": [
    "### Step 3. Repeat step 2 until all nodes have been chosen\n",
    "\n",
    "If all the vertices in the domain are visited, then terminate. Else, go to step 3."
   ]
  },
  {
   "cell_type": "code",
   "execution_count": null,
   "metadata": {},
   "outputs": [],
   "source": [
    "while len(route) != len(label):\n",
    "    index = find_closest_neighbor(current, G, label, route)\n",
    "    current = index\n",
    "    route.append(current)\n",
    "print(f'Final route: {list(map(lambda x:label[x], route))}')"
   ]
  },
  {
   "cell_type": "markdown",
   "metadata": {},
   "source": [
    "The sequence of the visited vertices is the output of the algorithm."
   ]
  },
  {
   "cell_type": "markdown",
   "metadata": {},
   "source": [
    "## Note\n",
    "\n",
    "The nearest neighbour algorithm is easy to implement and executes quickly, but it can sometimes miss shorter routes which are easily noticed with human insight, due to its \"greedy\" nature. As a general guide, if the last few stages of the route are comparable in length to the first stages, then the route is reasonable; if they are much greater, then it is likely that much better routes exist. Another check is to use an algorithm such as the lower bound algorithm to estimate if this route is good enough.\n",
    "\n",
    "In the worst case, the algorithm results in a route that is much longer than the optimal route. To be precise, for every constant r there is an instance of the traveling salesman problem such that the length of the route computed by the nearest neighbour algorithm is greater than r times the length of the optimal route. Moreover, for each number of cities there is an assignment of distances between the cities for which the nearest neighbor heuristic produces the unique worst possible route. (If the algorithm is applied on every vertex as the starting vertex, the best path found will be better than at least N/2-1 other routes, where N is the number of vertices.)\n",
    "\n",
    "The nearest neighbour algorithm may not find a feasible route at all, even when one exists.\n",
    "\n",
    "You can find the implementation of the nearest neighbor algorithm in pyTSP from the following location:\n",
    "\n",
    "`pyTSP/source/algorithms/tour_construction.py#L33`\n",
    "\n",
    "## Exercises\n",
    "\n",
    " - Can this method find the best routes? Verify your idea with code (refer to the function for calculating routes distance in permutation.ipynb)"
   ]
  }
 ],
 "metadata": {
  "kernelspec": {
   "display_name": "Environment (conda_python3)",
   "language": "python",
   "name": "conda_python3"
  },
  "language_info": {
   "codemirror_mode": {
    "name": "ipython",
    "version": 3
   },
   "file_extension": ".py",
   "mimetype": "text/x-python",
   "name": "python",
   "nbconvert_exporter": "python",
   "pygments_lexer": "ipython3",
   "version": "3.6.10"
  }
 },
 "nbformat": 4,
 "nbformat_minor": 4
}
