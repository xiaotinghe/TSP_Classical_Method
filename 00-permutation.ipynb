{
 "cells": [
  {
   "cell_type": "markdown",
   "metadata": {},
   "source": [
    "# Brute-force algorithm\n",
    "\n",
    "In computer science, brute-force search or exhaustive search, also known as generate and test, is a very general problem-solving technique and algorithmic paradigm that consists of systematically enumerating all possible candidates for the solution and checking whether each candidate satisfies the problem's statement.\n",
    "\n",
    "The Brute Force approach, calculates and compares all possible permutations of routes or paths to determine the shortest unique solution. \n",
    "\n",
    "## Algorithm\n",
    "\n",
    "1. List all the possible routes.\n",
    "1. Calculate the distance of each route and then choose the shortest one—this is the optimal solution. \n",
    "\n",
    "## Step by step\n",
    "\n",
    "First, we import the python dependencies required for this section."
   ]
  },
  {
   "cell_type": "code",
   "execution_count": null,
   "metadata": {},
   "outputs": [],
   "source": [
    "import numpy as np\n",
    "import itertools\n",
    "import time\n",
    "import random"
   ]
  },
  {
   "cell_type": "markdown",
   "metadata": {},
   "source": [
    "Next, we define a travel graph, which include four cities a, b, c and d, and the distance between them is described by distance matrix.\n",
    "\n",
    "|  | a  | b  | c  | d  |\n",
    "|--------|----|----|----|----|\n",
    "| a      | 0  | 20 | 15 | 35 |\n",
    "| b      | 20 | 0  | 10 | 25 |\n",
    "| c      | 15 | 10 | 0  | 12 |\n",
    "| d      | 35 | 25 | 12 | 0  |\n",
    "\n",
    "Each element in the matrix represents the distance between the corresponding row and column city. For example, the distance between a and c is 15. Note that since the round-trip distance between any two points is the same, the distance matrix is a symmetric matrix.\n",
    "\n",
    "The code implementation is as follows:"
   ]
  },
  {
   "cell_type": "code",
   "execution_count": 1,
   "metadata": {},
   "outputs": [],
   "source": [
    "label = ['a', 'b', 'c', 'd']\n",
    "G = [\n",
    "    [0,20,15,35],\n",
    "    [20,0,10,25],\n",
    "    [15,10,0,12],\n",
    "    [35,25,12,0]\n",
    "]"
   ]
  },
  {
   "cell_type": "markdown",
   "metadata": {},
   "source": [
    "#### Step 1. List all the possible routes.\n",
    "\n",
    "We define a function, input the list of cities and the distance matrix, and return all possible routes:"
   ]
  },
  {
   "cell_type": "code",
   "execution_count": null,
   "metadata": {},
   "outputs": [],
   "source": [
    "def get_all_routes(G, label):\n",
    "    permutations = list(itertools.permutations(list(range(len(label))), len(label)))\n",
    "    all_routes = []\n",
    "    for row in permutations:\n",
    "        flag = True\n",
    "        for i in range(len(row)-1):\n",
    "            if G[row[i]][row[i+1]] <= 0:\n",
    "                flag = False\n",
    "        if flag:\n",
    "            all_routes.append(row)\n",
    "    return all_routes\n",
    "all_routes = get_all_routes(G, label)"
   ]
  },
  {
   "cell_type": "code",
   "execution_count": null,
   "metadata": {},
   "outputs": [],
   "source": [
    "print(f'routes num: {len(all_routes)}')"
   ]
  },
  {
   "cell_type": "markdown",
   "metadata": {},
   "source": [
    "#### Step 2. Calculate the distance of each route and then choose the shortest one. \n",
    "\n",
    "We define a function that can calculate the distance of a route."
   ]
  },
  {
   "cell_type": "code",
   "execution_count": null,
   "metadata": {},
   "outputs": [],
   "source": [
    "def calPathDist(tour, G):\n",
    "    s = 0\n",
    "    for i in range(0, len(tour)-1):\n",
    "        s += G[tour[i]][tour[i+1]]\n",
    "    return s"
   ]
  },
  {
   "cell_type": "markdown",
   "metadata": {},
   "source": [
    "Next, we calculate the distance of each route and then choose the shortest one. "
   ]
  },
  {
   "cell_type": "code",
   "execution_count": null,
   "metadata": {},
   "outputs": [],
   "source": [
    "start_time = time.time()\n",
    "best_dist = 10000003\n",
    "for tour in all_routes:\n",
    "    current_dist = calPathDist(tour, G)\n",
    "    if current_dist < best_dist:\n",
    "        best_dist = current_dist\n",
    "        best_tour = tour\n",
    "print(f'Best Tour: {list(map(lambda x:label[x], best_tour))}, Best Distance: {best_dist}, cpu time: {time.time()-start_time}')"
   ]
  },
  {
   "cell_type": "markdown",
   "metadata": {},
   "source": [
    "## Exercises\n",
    "\n",
    " - What if we have more cities? How much will the running time increase?\n",
    "\n",
    "Verify your idea with the following code.\n",
    "\n",
    "Now we define a function that can generate a larger citys graph."
   ]
  },
  {
   "cell_type": "code",
   "execution_count": null,
   "metadata": {},
   "outputs": [],
   "source": [
    "def generate_graph(city_num):\n",
    "    labels = list(range(city_num))\n",
    "    pairs = itertools.combinations(labels, 2)\n",
    "    G = [[0] * city_num for _ in range(city_num)]\n",
    "    for p in pairs:\n",
    "        dist = random.randint(0, 2*city_num)\n",
    "        G[p[0]][p[1]] = dist\n",
    "        G[p[1]][p[0]] = dist\n",
    "    return labels, G"
   ]
  },
  {
   "cell_type": "markdown",
   "metadata": {},
   "source": [
    "Now we set `city_num=10` to generate a new citys graph."
   ]
  },
  {
   "cell_type": "code",
   "execution_count": null,
   "metadata": {},
   "outputs": [],
   "source": [
    "label, G = generate_graph(10)"
   ]
  },
  {
   "cell_type": "markdown",
   "metadata": {},
   "source": [
    "Then we calculate all possible rotues."
   ]
  },
  {
   "cell_type": "code",
   "execution_count": null,
   "metadata": {},
   "outputs": [],
   "source": [
    "start_time = time.time()\n",
    "all_routes = get_all_routes(G, label)\n",
    "print(f'cpu time: {time.time()-start_time}, routes num: {len(all_routes)}')"
   ]
  },
  {
   "cell_type": "markdown",
   "metadata": {},
   "source": [
    "From the above output results, even if we only increase the number of cities from 4 to 10, the number of possible rotues has increased by several orders of magnitude."
   ]
  },
  {
   "cell_type": "code",
   "execution_count": null,
   "metadata": {},
   "outputs": [],
   "source": [
    "start_time = time.time()\n",
    "best_dist = 10000003\n",
    "for tour in all_routes:\n",
    "    current_dist = calPathDist(tour, G)\n",
    "    if current_dist < best_dist:\n",
    "        best_dist = current_dist\n",
    "        best_tour = tour\n",
    "print(f'Best Tour: {list(map(lambda x:label[x], best_tour))}, Best Distance: {best_dist}, cpu time: {time.time()-start_time}')"
   ]
  },
  {
   "cell_type": "markdown",
   "metadata": {},
   "source": [
    "When the number of cities increases, the running time will rise exponentially!"
   ]
  }
 ],
 "metadata": {
  "kernelspec": {
   "display_name": "Environment (conda_python3)",
   "language": "python",
   "name": "conda_python3"
  },
  "language_info": {
   "codemirror_mode": {
    "name": "ipython",
    "version": 3
   },
   "file_extension": ".py",
   "mimetype": "text/x-python",
   "name": "python",
   "nbconvert_exporter": "python",
   "pygments_lexer": "ipython3",
   "version": "3.6.10"
  }
 },
 "nbformat": 4,
 "nbformat_minor": 4
}
