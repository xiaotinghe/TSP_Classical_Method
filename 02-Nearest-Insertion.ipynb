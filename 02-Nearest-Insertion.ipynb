{
 "cells": [
  {
   "cell_type": "markdown",
   "metadata": {},
   "source": [
    "# Nearest Insertion algorithm"
   ]
  },
  {
   "cell_type": "markdown",
   "metadata": {},
   "source": [
    "## Algorithm\n",
    "\n",
    "1. Randomly choice node as the initial node and add it to the route.\n",
    "1. Find the nearest node of the initial node and add it to the route.\n",
    "1. Find the node that is not in the route and is closest to the node in the route; Called K.\n",
    "1. Find an edge {i,j} in the route to minimize dik+dkj-dij.\n",
    "1. Replace {i,j} with {i,k} and {k,j} to construct a new route. Stops if the current route includes all nodes. Otherwise, go to step 3.\n",
    "\n",
    "## Step by step\n",
    "\n",
    "First, we import the python dependencies required for this section."
   ]
  },
  {
   "cell_type": "code",
   "execution_count": null,
   "metadata": {},
   "outputs": [],
   "source": [
    "import numpy as np\n",
    "import random"
   ]
  },
  {
   "cell_type": "markdown",
   "metadata": {},
   "source": [
    "Next, we define a travel graph, which include four cities a, b, c and d, and the distance between them is described by distance matrix.\n",
    "\n",
    "|  | a  | b  | c  | d  |\n",
    "|--------|----|----|----|----|\n",
    "| a      | 0  | 20 | 15 | 35 |\n",
    "| b      | 20 | 0  | 10 | 25 |\n",
    "| c      | 15 | 10 | 0  | 12 |\n",
    "| d      | 35 | 25 | 12 | 0  |\n",
    "\n",
    "Each element in the matrix represents the distance between the corresponding row and column city. For example, the distance between a and c is 15. Note that since the round-trip distance between any two points is the same, the distance matrix is a symmetric matrix.\n",
    "\n",
    "The code implementation is as follows:"
   ]
  },
  {
   "cell_type": "code",
   "execution_count": null,
   "metadata": {},
   "outputs": [],
   "source": [
    "label = ['a', 'b', 'c', 'd']\n",
    "G = [\n",
    "    [0,20,15,35],\n",
    "    [20,0,10,25],\n",
    "    [15,10,0,12],\n",
    "    [35,25,12,0]\n",
    "]"
   ]
  },
  {
   "cell_type": "markdown",
   "metadata": {},
   "source": [
    "We define a function to calculate the length of the route."
   ]
  },
  {
   "cell_type": "code",
   "execution_count": null,
   "metadata": {},
   "outputs": [],
   "source": [
    "def calPathDist(route, G):\n",
    "    s = 0\n",
    "    for i in range(0, len(route)-1):\n",
    "        s += G[route[i]][route[i+1]]\n",
    "    return s"
   ]
  },
  {
   "cell_type": "markdown",
   "metadata": {},
   "source": [
    "#### Step 1. Randomly choice node as the initial node and add it to the route."
   ]
  },
  {
   "cell_type": "code",
   "execution_count": null,
   "metadata": {},
   "outputs": [],
   "source": [
    "city = np.random.randint(len(label))\n",
    "route = [city]\n",
    "print(f'Start node: {city}, Route: {route}')"
   ]
  },
  {
   "cell_type": "markdown",
   "metadata": {},
   "source": [
    "#### Step 2. Find the nearest node of the initial node and add it to the route."
   ]
  },
  {
   "cell_type": "code",
   "execution_count": null,
   "metadata": {},
   "outputs": [],
   "source": [
    "def find_closest_neighbor(city, G, label, route, in_route=False):\n",
    "    w = 10000003\n",
    "    index = -1\n",
    "    for i in range(len(label)):\n",
    "        if (i in route if in_route else i not in route) and i != city and G[city][i] < w:\n",
    "            w = G[city][i]\n",
    "            index = i\n",
    "    return index"
   ]
  },
  {
   "cell_type": "code",
   "execution_count": null,
   "metadata": {},
   "outputs": [],
   "source": [
    "neighbor = find_closest_neighbor(city, G, label, route, False)\n",
    "route = [city, neighbor]\n",
    "print(f'neighbor: {neighbor}, Route: {route}')"
   ]
  },
  {
   "cell_type": "markdown",
   "metadata": {},
   "source": [
    "#### Step 3. Find the node that is not in the route and is closest to the node in the route; Called K."
   ]
  },
  {
   "cell_type": "code",
   "execution_count": null,
   "metadata": {},
   "outputs": [],
   "source": [
    "def get_nearest(G, label, route):\n",
    "    best, dist = None, float('inf')\n",
    "    for candidate in range(len(label)):\n",
    "        if candidate in route:\n",
    "            continue\n",
    "        # we consider only the distances to nodes already in the tour\n",
    "        c = find_closest_neighbor(candidate, G, label, route, True)\n",
    "        length = G[candidate][c]\n",
    "        if length < dist:\n",
    "            best, dist = candidate, length\n",
    "    return best"
   ]
  },
  {
   "cell_type": "code",
   "execution_count": null,
   "metadata": {},
   "outputs": [],
   "source": [
    "best = get_nearest(G, label, route)\n",
    "print(f'route: {list(map(lambda x:label[x], route))},  K: {label[best]}')"
   ]
  },
  {
   "cell_type": "markdown",
   "metadata": {},
   "source": [
    "#### Step 4. Find an edge {i,j} in the route to minimize dik+dkj-dij."
   ]
  },
  {
   "cell_type": "code",
   "execution_count": null,
   "metadata": {},
   "outputs": [],
   "source": [
    "def find_i_j(best, G, route):\n",
    "    idx, dist = None, float('inf')\n",
    "    \n",
    "    for i in range(len(route) - 1):\n",
    "        add = G[route[i]][best] + G[best][route[i+1]] - G[route[i]][route[i+1]]\n",
    "        if add < dist:\n",
    "            idx, dist = i, add\n",
    "    return idx, idx+1\n",
    "i, j = find_i_j(best, G, route)\n",
    "print(f'i,j: {list(map(lambda x:label[x], [route[i], route[j]]))}')"
   ]
  },
  {
   "cell_type": "markdown",
   "metadata": {},
   "source": [
    "#### Step 5. Replace {i,j} with {i,k} and {k,j} to construct a new route. Stops if the current route includes all nodes. Otherwise, go to step 3."
   ]
  },
  {
   "cell_type": "code",
   "execution_count": null,
   "metadata": {},
   "outputs": [],
   "source": [
    "while len(route) != len(label):\n",
    "    best = get_nearest(G, label, route)\n",
    "    route = route + [route[0]]\n",
    "    i, j = find_i_j(best, G, route)\n",
    "    route = route[:i+1] + [best] + route[j:]\n",
    "    route = route[:-1]\n",
    "print(f'Best route: {list(map(lambda x:label[x], route))}, Best Distance: {calPathDist(route, G)}')"
   ]
  },
  {
   "cell_type": "markdown",
   "metadata": {},
   "source": [
    "## Note\n",
    "\n",
    "You can find the implementation of the nearest insertion algorithm in pyTSP from the following location:\n",
    "\n",
    "`pyTSP/source/algorithms/tour_construction.py#L50`"
   ]
  },
  {
   "cell_type": "code",
   "execution_count": null,
   "metadata": {},
   "outputs": [],
   "source": []
  }
 ],
 "metadata": {
  "kernelspec": {
   "display_name": "Environment (conda_python3)",
   "language": "python",
   "name": "conda_python3"
  },
  "language_info": {
   "codemirror_mode": {
    "name": "ipython",
    "version": 3
   },
   "file_extension": ".py",
   "mimetype": "text/x-python",
   "name": "python",
   "nbconvert_exporter": "python",
   "pygments_lexer": "ipython3",
   "version": "3.6.10"
  }
 },
 "nbformat": 4,
 "nbformat_minor": 4
}
